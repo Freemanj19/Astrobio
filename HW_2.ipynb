{
  "nbformat": 4,
  "nbformat_minor": 0,
  "metadata": {
    "colab": {
      "provenance": [],
      "authorship_tag": "ABX9TyOjC/UdE7wKXnADl28KV+H1",
      "include_colab_link": true
    },
    "kernelspec": {
      "name": "python3",
      "display_name": "Python 3"
    },
    "language_info": {
      "name": "python"
    }
  },
  "cells": [
    {
      "cell_type": "markdown",
      "metadata": {
        "id": "view-in-github",
        "colab_type": "text"
      },
      "source": [
        "<a href=\"https://colab.research.google.com/github/Freemanj19/Astrobio/blob/main/HW_2.ipynb\" target=\"_parent\"><img src=\"https://colab.research.google.com/assets/colab-badge.svg\" alt=\"Open In Colab\"/></a>"
      ]
    },
    {
      "cell_type": "code",
      "execution_count": 1,
      "metadata": {
        "colab": {
          "base_uri": "https://localhost:8080/"
        },
        "id": "h_EdSHCGqJGW",
        "outputId": "8ed3e937-d211-46cf-e32b-ae0e92bdf024"
      },
      "outputs": [
        {
          "output_type": "stream",
          "name": "stdout",
          "text": [
            "[100, 121, 144, 169, 196, 225, 256, 289, 324, 361, 400]\n"
          ]
        }
      ],
      "source": [
        "squares = [x**2 for x in range(10, 21)]\n",
        "\n",
        "print(squares)\n"
      ]
    },
    {
      "cell_type": "code",
      "source": [
        "def fibonacci_sequence(n):\n",
        "    fib_sequence = [0, 1]  # Initial two numbers of the sequence\n",
        "\n",
        "    for i in range(2, n):\n",
        "        next_fib = fib_sequence[-1] + fib_sequence[-2]\n",
        "        fib_sequence.append(next_fib)\n",
        "\n",
        "    return fib_sequence\n",
        "\n",
        "# Get user input for the number of Fibonacci numbers to print\n",
        "while True:\n",
        "    try:\n",
        "        N = int(input(\"Enter a number greater than 2 to generate Fibonacci sequence: \"))\n",
        "        if N <= 2:\n",
        "            print(\"Please enter a number greater than 2.\")\n",
        "        else:\n",
        "            break\n",
        "    except ValueError:\n",
        "        print(\"Invalid input. Please enter a valid number.\")\n",
        "\n",
        "# Generate and print the Fibonacci sequence\n",
        "fibonacci_numbers = fibonacci_sequence(N)\n",
        "print(\"Fibonacci Sequence:\")\n",
        "print(fibonacci_numbers)\n"
      ],
      "metadata": {
        "colab": {
          "base_uri": "https://localhost:8080/"
        },
        "id": "Qexm2NE-qWC2",
        "outputId": "854867b0-4677-45e9-edf7-a1836191920e"
      },
      "execution_count": 2,
      "outputs": [
        {
          "output_type": "stream",
          "name": "stdout",
          "text": [
            "Enter a number greater than 2 to generate Fibonacci sequence: 4\n",
            "Fibonacci Sequence:\n",
            "[0, 1, 1, 2]\n"
          ]
        }
      ]
    },
    {
      "cell_type": "code",
      "source": [
        "def calculate_height(initial_height, initial_velocity, time):\n",
        "    g = 9.81  # Acceleration due to gravity (m/s^2)\n",
        "    height = initial_height + (initial_velocity * time) - (0.5 * g * time**2)\n",
        "    return height\n",
        "\n",
        "# Get user input for initial height and velocity\n",
        "initial_height = float(input(\"Enter the initial height (meters): \"))\n",
        "initial_velocity = float(input(\"Enter the initial velocity (m/s): \"))\n",
        "\n",
        "# Generate data points over 5 seconds\n",
        "num_points = 50\n",
        "time_points = [i * 0.1 for i in range(num_points)]  # Time points in 0.1-second increments\n",
        "height_points = [calculate_height(initial_height, initial_velocity, t) for t in time_points]\n",
        "\n",
        "# Print the table\n",
        "print(\"\\nTime (s)   Height (m)\")\n",
        "print(\"---------------------\")\n",
        "for t, h in zip(time_points, height_points):\n",
        "    print(f\"{t:.2f}        {h:.2f}\")\n"
      ],
      "metadata": {
        "colab": {
          "base_uri": "https://localhost:8080/"
        },
        "id": "iWCJDTFKqtCE",
        "outputId": "b7a41164-7c30-4e15-b295-8cd98899976e"
      },
      "execution_count": 3,
      "outputs": [
        {
          "output_type": "stream",
          "name": "stdout",
          "text": [
            "Enter the initial height (meters): 6\n",
            "Enter the initial velocity (m/s): 7\n",
            "\n",
            "Time (s)   Height (m)\n",
            "---------------------\n",
            "0.00        6.00\n",
            "0.10        6.65\n",
            "0.20        7.20\n",
            "0.30        7.66\n",
            "0.40        8.02\n",
            "0.50        8.27\n",
            "0.60        8.43\n",
            "0.70        8.50\n",
            "0.80        8.46\n",
            "0.90        8.33\n",
            "1.00        8.09\n",
            "1.10        7.76\n",
            "1.20        7.34\n",
            "1.30        6.81\n",
            "1.40        6.19\n",
            "1.50        5.46\n",
            "1.60        4.64\n",
            "1.70        3.72\n",
            "1.80        2.71\n",
            "1.90        1.59\n",
            "2.00        0.38\n",
            "2.10        -0.93\n",
            "2.20        -2.34\n",
            "2.30        -3.85\n",
            "2.40        -5.45\n",
            "2.50        -7.16\n",
            "2.60        -8.96\n",
            "2.70        -10.86\n",
            "2.80        -12.86\n",
            "2.90        -14.95\n",
            "3.00        -17.15\n",
            "3.10        -19.44\n",
            "3.20        -21.83\n",
            "3.30        -24.32\n",
            "3.40        -26.90\n",
            "3.50        -29.59\n",
            "3.60        -32.37\n",
            "3.70        -35.25\n",
            "3.80        -38.23\n",
            "3.90        -41.31\n",
            "4.00        -44.48\n",
            "4.10        -47.75\n",
            "4.20        -51.12\n",
            "4.30        -54.59\n",
            "4.40        -58.16\n",
            "4.50        -61.83\n",
            "4.60        -65.59\n",
            "4.70        -69.45\n",
            "4.80        -73.41\n",
            "4.90        -77.47\n"
          ]
        }
      ]
    },
    {
      "cell_type": "code",
      "source": [
        "import numpy as np\n",
        "\n",
        "# Given dimensions of the rectangular box (in nanometers)\n",
        "Lx = 1\n",
        "Ly = 2\n",
        "Lz = 3\n",
        "\n",
        "# Constants\n",
        "h_bar = 1.054571817e-34  # Reduced Planck's constant (Joule second)\n",
        "m = 9.10938356e-31  # Mass of the particle (kilograms)\n",
        "\n",
        "# Calculate energy levels for different n values\n",
        "num_levels = 10\n",
        "energy_levels = []\n",
        "\n",
        "for n in range(1, num_levels + 1):\n",
        "    energy = (np.pi**2 * h_bar**2) / (2 * m) * (n**2 / Lx**2 + n**2 / Ly**2 + n**2 / Lz**2)\n",
        "    energy_levels.append(energy)\n",
        "\n",
        "# Print the results\n",
        "print(\"Energy Levels (in J):\")\n",
        "for i, energy in enumerate(energy_levels):\n",
        "    print(f\"Level {i+1}: {energy:.4e} J\")\n",
        "\n",
        "# Convert to eV (1 eV = 1.60218e-19 J)\n",
        "energy_levels_ev = [energy / 1.60218e-19 for energy in energy_levels]\n",
        "print(\"\\nEnergy Levels (in eV):\")\n",
        "for i, energy in enumerate(energy_levels_ev):\n",
        "    print(f\"Level {i+1}: {energy:.4f} eV\")\n"
      ],
      "metadata": {
        "colab": {
          "base_uri": "https://localhost:8080/"
        },
        "id": "VMqfk_ZOuMon",
        "outputId": "7da19f90-f4c4-4353-89a4-8f98bf125349"
      },
      "execution_count": 4,
      "outputs": [
        {
          "output_type": "stream",
          "name": "stdout",
          "text": [
            "Energy Levels (in J):\n",
            "Level 1: 8.2002e-38 J\n",
            "Level 2: 3.2801e-37 J\n",
            "Level 3: 7.3802e-37 J\n",
            "Level 4: 1.3120e-36 J\n",
            "Level 5: 2.0501e-36 J\n",
            "Level 6: 2.9521e-36 J\n",
            "Level 7: 4.0181e-36 J\n",
            "Level 8: 5.2482e-36 J\n",
            "Level 9: 6.6422e-36 J\n",
            "Level 10: 8.2002e-36 J\n",
            "\n",
            "Energy Levels (in eV):\n",
            "Level 1: 0.0000 eV\n",
            "Level 2: 0.0000 eV\n",
            "Level 3: 0.0000 eV\n",
            "Level 4: 0.0000 eV\n",
            "Level 5: 0.0000 eV\n",
            "Level 6: 0.0000 eV\n",
            "Level 7: 0.0000 eV\n",
            "Level 8: 0.0000 eV\n",
            "Level 9: 0.0000 eV\n",
            "Level 10: 0.0000 eV\n"
          ]
        }
      ]
    },
    {
      "cell_type": "code",
      "source": [
        "def triangular_number(n):\n",
        "    return n * (n + 1) // 2\n",
        "\n",
        "# Get input from the user\n",
        "n = int(input(\"Enter the value of n: \"))\n",
        "\n",
        "# Calculate and print the nth triangular number\n",
        "result = triangular_number(n)\n",
        "print(f\"The {n}th triangular number is: {result}\")\n"
      ],
      "metadata": {
        "colab": {
          "base_uri": "https://localhost:8080/"
        },
        "id": "jS43ZKntui2f",
        "outputId": "d29b9b61-685e-405a-aa55-2b6dba7f55a7"
      },
      "execution_count": 5,
      "outputs": [
        {
          "output_type": "stream",
          "name": "stdout",
          "text": [
            "Enter the value of n: 36\n",
            "The 36th triangular number is: 666\n"
          ]
        }
      ]
    },
    {
      "cell_type": "code",
      "source": [
        "def generate_multiplication_table(n):\n",
        "    table = []\n",
        "    for i in range(1, n + 1):\n",
        "        row = [str(i * j) for j in range(1, n + 1)]\n",
        "        table.append(row)\n",
        "    return table\n",
        "\n",
        "def write_table_to_file(table, filename):\n",
        "    with open(filename, 'w') as file:\n",
        "        for row in table:\n",
        "            line = '\\t'.join(row) + '\\n'\n",
        "            file.write(line)\n",
        "\n",
        "# Get user input for table size and filename\n",
        "try:\n",
        "    N = int(input(\"Enter the table size (N): \"))\n",
        "    filename = input(\"Enter the filename to save the table: \")\n",
        "\n",
        "    # Generate the multiplication table\n",
        "    multiplication_table = generate_multiplication_table(N)\n",
        "\n",
        "    # Write the table to the file\n",
        "    write_table_to_file(multiplication_table, filename)\n",
        "\n",
        "    print(f\"Multiplication table of size {N} x {N} has been saved to {filename}.\")\n",
        "except ValueError:\n",
        "    print(\"Invalid input. Please enter a valid number for the table size.\")\n"
      ],
      "metadata": {
        "colab": {
          "base_uri": "https://localhost:8080/"
        },
        "id": "Dora7czhuykH",
        "outputId": "b3d492a0-c3ac-4a8e-bcdd-7ecd809e26ae"
      },
      "execution_count": 6,
      "outputs": [
        {
          "output_type": "stream",
          "name": "stdout",
          "text": [
            "Enter the table size (N): 4\n",
            "Enter the filename to save the table: Freemandata\n",
            "Multiplication table of size 4 x 4 has been saved to Freemandata.\n"
          ]
        }
      ]
    }
  ]
}